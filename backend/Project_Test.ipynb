{
  "cells": [
    {
      "cell_type": "markdown",
      "metadata": {
        "id": "KL0KA-TFtKdz"
      },
      "source": [
        "## Install Libraries"
      ]
    },
    {
      "cell_type": "code",
      "execution_count": 5,
      "metadata": {
        "colab": {
          "base_uri": "https://localhost:8080/"
        },
        "id": "vp-qBe2-D-Tj",
        "outputId": "4d2a5a10-8ab9-4347-ac01-96b41c4f193f"
      },
      "outputs": [
        {
          "name": "stdout",
          "output_type": "stream",
          "text": [
            "Requirement already satisfied: nltk in /usr/local/lib/python3.10/dist-packages (3.8.1)\n",
            "Requirement already satisfied: transformers in /usr/local/lib/python3.10/dist-packages (4.38.2)\n",
            "Collecting gtts\n",
            "  Downloading gTTS-2.5.1-py3-none-any.whl (29 kB)\n",
            "Requirement already satisfied: click in /usr/local/lib/python3.10/dist-packages (from nltk) (8.1.7)\n",
            "Requirement already satisfied: joblib in /usr/local/lib/python3.10/dist-packages (from nltk) (1.3.2)\n",
            "Requirement already satisfied: regex>=2021.8.3 in /usr/local/lib/python3.10/dist-packages (from nltk) (2023.12.25)\n",
            "Requirement already satisfied: tqdm in /usr/local/lib/python3.10/dist-packages (from nltk) (4.66.2)\n",
            "Requirement already satisfied: filelock in /usr/local/lib/python3.10/dist-packages (from transformers) (3.13.1)\n",
            "Requirement already satisfied: huggingface-hub<1.0,>=0.19.3 in /usr/local/lib/python3.10/dist-packages (from transformers) (0.20.3)\n",
            "Requirement already satisfied: numpy>=1.17 in /usr/local/lib/python3.10/dist-packages (from transformers) (1.25.2)\n",
            "Requirement already satisfied: packaging>=20.0 in /usr/local/lib/python3.10/dist-packages (from transformers) (24.0)\n",
            "Requirement already satisfied: pyyaml>=5.1 in /usr/local/lib/python3.10/dist-packages (from transformers) (6.0.1)\n",
            "Requirement already satisfied: requests in /usr/local/lib/python3.10/dist-packages (from transformers) (2.31.0)\n",
            "Requirement already satisfied: tokenizers<0.19,>=0.14 in /usr/local/lib/python3.10/dist-packages (from transformers) (0.15.2)\n",
            "Requirement already satisfied: safetensors>=0.4.1 in /usr/local/lib/python3.10/dist-packages (from transformers) (0.4.2)\n",
            "Requirement already satisfied: fsspec>=2023.5.0 in /usr/local/lib/python3.10/dist-packages (from huggingface-hub<1.0,>=0.19.3->transformers) (2023.6.0)\n",
            "Requirement already satisfied: typing-extensions>=3.7.4.3 in /usr/local/lib/python3.10/dist-packages (from huggingface-hub<1.0,>=0.19.3->transformers) (4.10.0)\n",
            "Requirement already satisfied: charset-normalizer<4,>=2 in /usr/local/lib/python3.10/dist-packages (from requests->transformers) (3.3.2)\n",
            "Requirement already satisfied: idna<4,>=2.5 in /usr/local/lib/python3.10/dist-packages (from requests->transformers) (3.6)\n",
            "Requirement already satisfied: urllib3<3,>=1.21.1 in /usr/local/lib/python3.10/dist-packages (from requests->transformers) (2.0.7)\n",
            "Requirement already satisfied: certifi>=2017.4.17 in /usr/local/lib/python3.10/dist-packages (from requests->transformers) (2024.2.2)\n",
            "Installing collected packages: gtts\n",
            "Successfully installed gtts-2.5.1\n",
            "Collecting SpeechRecognition\n",
            "  Downloading SpeechRecognition-3.10.1-py2.py3-none-any.whl (32.8 MB)\n",
            "\u001b[2K     \u001b[90m━━━━━━━━━━━━━━━━━━━━━━━━━━━━━━━━━━━━━━━━\u001b[0m \u001b[32m32.8/32.8 MB\u001b[0m \u001b[31m28.0 MB/s\u001b[0m eta \u001b[36m0:00:00\u001b[0m\n",
            "\u001b[?25hRequirement already satisfied: requests>=2.26.0 in /usr/local/lib/python3.10/dist-packages (from SpeechRecognition) (2.31.0)\n",
            "Requirement already satisfied: typing-extensions in /usr/local/lib/python3.10/dist-packages (from SpeechRecognition) (4.10.0)\n",
            "Requirement already satisfied: charset-normalizer<4,>=2 in /usr/local/lib/python3.10/dist-packages (from requests>=2.26.0->SpeechRecognition) (3.3.2)\n",
            "Requirement already satisfied: idna<4,>=2.5 in /usr/local/lib/python3.10/dist-packages (from requests>=2.26.0->SpeechRecognition) (3.6)\n",
            "Requirement already satisfied: urllib3<3,>=1.21.1 in /usr/local/lib/python3.10/dist-packages (from requests>=2.26.0->SpeechRecognition) (2.0.7)\n",
            "Requirement already satisfied: certifi>=2017.4.17 in /usr/local/lib/python3.10/dist-packages (from requests>=2.26.0->SpeechRecognition) (2024.2.2)\n",
            "Installing collected packages: SpeechRecognition\n",
            "Successfully installed SpeechRecognition-3.10.1\n",
            "Reading package lists... Done\n",
            "Building dependency tree... Done\n",
            "Reading state information... Done\n",
            "libasound2-dev is already the newest version (1.2.6.1-1ubuntu1).\n",
            "ffmpeg is already the newest version (7:4.4.2-0ubuntu0.22.04.1).\n",
            "Suggested packages:\n",
            "  portaudio19-doc\n",
            "The following NEW packages will be installed:\n",
            "  libportaudio2 libportaudiocpp0 portaudio19-dev\n",
            "0 upgraded, 3 newly installed, 0 to remove and 38 not upgraded.\n",
            "Need to get 188 kB of archives.\n",
            "After this operation, 927 kB of additional disk space will be used.\n",
            "Get:1 http://archive.ubuntu.com/ubuntu jammy/universe amd64 libportaudio2 amd64 19.6.0-1.1 [65.3 kB]\n",
            "Get:2 http://archive.ubuntu.com/ubuntu jammy/universe amd64 libportaudiocpp0 amd64 19.6.0-1.1 [16.1 kB]\n",
            "Get:3 http://archive.ubuntu.com/ubuntu jammy/universe amd64 portaudio19-dev amd64 19.6.0-1.1 [106 kB]\n",
            "Fetched 188 kB in 1s (173 kB/s)\n",
            "Selecting previously unselected package libportaudio2:amd64.\n",
            "(Reading database ... 121752 files and directories currently installed.)\n",
            "Preparing to unpack .../libportaudio2_19.6.0-1.1_amd64.deb ...\n",
            "Unpacking libportaudio2:amd64 (19.6.0-1.1) ...\n",
            "Selecting previously unselected package libportaudiocpp0:amd64.\n",
            "Preparing to unpack .../libportaudiocpp0_19.6.0-1.1_amd64.deb ...\n",
            "Unpacking libportaudiocpp0:amd64 (19.6.0-1.1) ...\n",
            "Selecting previously unselected package portaudio19-dev:amd64.\n",
            "Preparing to unpack .../portaudio19-dev_19.6.0-1.1_amd64.deb ...\n",
            "Unpacking portaudio19-dev:amd64 (19.6.0-1.1) ...\n",
            "Setting up libportaudio2:amd64 (19.6.0-1.1) ...\n",
            "Setting up libportaudiocpp0:amd64 (19.6.0-1.1) ...\n",
            "Setting up portaudio19-dev:amd64 (19.6.0-1.1) ...\n",
            "Processing triggers for libc-bin (2.35-0ubuntu3.4) ...\n",
            "/sbin/ldconfig.real: /usr/local/lib/libtbbmalloc.so.2 is not a symbolic link\n",
            "\n",
            "/sbin/ldconfig.real: /usr/local/lib/libtbb.so.12 is not a symbolic link\n",
            "\n",
            "/sbin/ldconfig.real: /usr/local/lib/libtbbbind_2_0.so.3 is not a symbolic link\n",
            "\n",
            "/sbin/ldconfig.real: /usr/local/lib/libtbbbind.so.3 is not a symbolic link\n",
            "\n",
            "/sbin/ldconfig.real: /usr/local/lib/libtbbbind_2_5.so.3 is not a symbolic link\n",
            "\n",
            "/sbin/ldconfig.real: /usr/local/lib/libtbbmalloc_proxy.so.2 is not a symbolic link\n",
            "\n",
            "Collecting pyaudio\n",
            "  Downloading PyAudio-0.2.14.tar.gz (47 kB)\n",
            "\u001b[2K     \u001b[90m━━━━━━━━━━━━━━━━━━━━━━━━━━━━━━━━━━━━━━━━\u001b[0m \u001b[32m47.1/47.1 kB\u001b[0m \u001b[31m1.3 MB/s\u001b[0m eta \u001b[36m0:00:00\u001b[0m\n",
            "\u001b[?25h  Installing build dependencies ... \u001b[?25l\u001b[?25hdone\n",
            "  Getting requirements to build wheel ... \u001b[?25l\u001b[?25hdone\n",
            "  Preparing metadata (pyproject.toml) ... \u001b[?25l\u001b[?25hdone\n",
            "Building wheels for collected packages: pyaudio\n",
            "  Building wheel for pyaudio (pyproject.toml) ... \u001b[?25l\u001b[?25hdone\n",
            "  Created wheel for pyaudio: filename=PyAudio-0.2.14-cp310-cp310-linux_x86_64.whl size=63856 sha256=8d067aafc9681c37fe6a5de088d202608d51636fc68885866b9c0372ee893ecf\n",
            "  Stored in directory: /root/.cache/pip/wheels/d6/21/f4/0b51d41ba79e51b16295cbb096ec49f334792814d545b508c5\n",
            "Successfully built pyaudio\n",
            "Installing collected packages: pyaudio\n",
            "Successfully installed pyaudio-0.2.14\n",
            "Collecting pydub\n",
            "  Downloading pydub-0.25.1-py2.py3-none-any.whl (32 kB)\n",
            "Installing collected packages: pydub\n",
            "Successfully installed pydub-0.25.1\n",
            "Requirement already satisfied: pygame in /usr/local/lib/python3.10/dist-packages (2.5.2)\n"
          ]
        }
      ],
      "source": [
        "!pip install nltk transformers gtts\n",
        "!pip install SpeechRecognition\n",
        "!apt install libasound2-dev portaudio19-dev libportaudio2 libportaudiocpp0 ffmpeg\n",
        "!pip install pyaudio\n",
        "!pip install pydub\n",
        "!pip install pygame\n",
        "!pip install openai\n",
        "\n",
        "path = \"/content/drive/MyDrive/CSI5180/Project\""
      ]
    },
    {
      "cell_type": "markdown",
      "metadata": {
        "id": "dMzdnF5utOaG"
      },
      "source": [
        "## Record Audio"
      ]
    },
    {
      "cell_type": "code",
      "execution_count": 6,
      "metadata": {
        "id": "YCjiWjq1tRJg"
      },
      "outputs": [],
      "source": [
        "# all imports\n",
        "from io import BytesIO\n",
        "from base64 import b64decode\n",
        "from google.colab import output\n",
        "from IPython.display import Javascript\n",
        "\n",
        "RECORD = \"\"\"\n",
        "const sleep  = time => new Promise(resolve => setTimeout(resolve, time))\n",
        "const b2text = blob => new Promise(resolve => {\n",
        "  const reader = new FileReader()\n",
        "  reader.onloadend = e => resolve(e.srcElement.result)\n",
        "  reader.readAsDataURL(blob)\n",
        "})\n",
        "var record = time => new Promise(async resolve => {\n",
        "  stream = await navigator.mediaDevices.getUserMedia({ audio: true })\n",
        "  recorder = new MediaRecorder(stream)\n",
        "  chunks = []\n",
        "  recorder.ondataavailable = e => chunks.push(e.data)\n",
        "  recorder.start()\n",
        "  await sleep(time)\n",
        "  recorder.onstop = async ()=>{\n",
        "    blob = new Blob(chunks)\n",
        "    text = await b2text(blob)\n",
        "    resolve(text)\n",
        "  }\n",
        "  recorder.stop()\n",
        "})\n",
        "\"\"\"\n",
        "\n",
        "def record(sec=3):\n",
        "  print(\"Speak Now...\")\n",
        "  display(Javascript(RECORD))\n",
        "  sec += 1\n",
        "  s = output.eval_js('record(%d)' % (sec*1000))\n",
        "  print(\"Done Recording !\")\n",
        "  b = b64decode(s.split(',')[1])\n",
        "  return b #byte stream\n",
        "\n",
        "# audio = record(3)\n",
        "# import IPython.display as ipd\n",
        "\n",
        "# ipd.display(ipd.Audio(audio))"
      ]
    },
    {
      "cell_type": "markdown",
      "metadata": {
        "id": "8Q-GcC1027yY"
      },
      "source": [
        "## Speech to Text"
      ]
    },
    {
      "cell_type": "code",
      "execution_count": 34,
      "metadata": {
        "colab": {
          "base_uri": "https://localhost:8080/",
          "height": 69
        },
        "id": "l36jyHAyxj0v",
        "outputId": "619d98fb-bc1a-4973-8563-3b44524c3b26"
      },
      "outputs": [
        {
          "name": "stdout",
          "output_type": "stream",
          "text": [
            "Speak Now...\n"
          ]
        },
        {
          "data": {
            "application/javascript": "\nconst sleep  = time => new Promise(resolve => setTimeout(resolve, time))\nconst b2text = blob => new Promise(resolve => {\n  const reader = new FileReader()\n  reader.onloadend = e => resolve(e.srcElement.result)\n  reader.readAsDataURL(blob)\n})\nvar record = time => new Promise(async resolve => {\n  stream = await navigator.mediaDevices.getUserMedia({ audio: true })\n  recorder = new MediaRecorder(stream)\n  chunks = []\n  recorder.ondataavailable = e => chunks.push(e.data)\n  recorder.start()\n  await sleep(time)\n  recorder.onstop = async ()=>{\n    blob = new Blob(chunks)\n    text = await b2text(blob)\n    resolve(text)\n  }\n  recorder.stop()\n})\n",
            "text/plain": [
              "<IPython.core.display.Javascript object>"
            ]
          },
          "metadata": {},
          "output_type": "display_data"
        },
        {
          "name": "stdout",
          "output_type": "stream",
          "text": [
            "Done Recording !\n",
            "Still listenning...\n"
          ]
        }
      ],
      "source": [
        "from pydub import AudioSegment\n",
        "import speech_recognition as sr\n",
        "import tempfile\n",
        "\n",
        "def save_to_file(byte_stream, file_format='mp4'):\n",
        "    # Save the byte stream to a temporary file\n",
        "    temp_file = tempfile.NamedTemporaryFile(delete=False, suffix='.' + file_format)\n",
        "    temp_file.write(byte_stream)\n",
        "    temp_file.close()\n",
        "    return temp_file.name\n",
        "\n",
        "def transcribe_audio(audio_bytes, file_format='mp4'):\n",
        "    # Save the audio bytes to a file\n",
        "    audio_file_path = save_to_file(audio_bytes, file_format=file_format)\n",
        "\n",
        "    # Use pydub to load the audio file\n",
        "    audio_segment = AudioSegment.from_file(audio_file_path)\n",
        "\n",
        "    # Export the audio to a new WAV file\n",
        "    wav_file_path = audio_file_path + '.wav'\n",
        "    audio_segment.export(wav_file_path, format='wav')\n",
        "\n",
        "    # Initialize the recognizer\n",
        "    recognizer = sr.Recognizer()\n",
        "\n",
        "    # Open the WAV file for transcription\n",
        "    with sr.AudioFile(wav_file_path) as source:\n",
        "        audio_data = recognizer.record(source)\n",
        "        try:\n",
        "            return recognizer.recognize_google(audio_data)\n",
        "            # print(\"Transcription: \" + text)\n",
        "            # response = process_intent(text)\n",
        "            # print(\"Response: \"+response)\n",
        "        except sr.UnknownValueError:\n",
        "            print(\"Still listenning...\")\n",
        "        except sr.RequestError as e:\n",
        "            print(f\"Could not request results from Google Web Speech API\")\n",
        "\n",
        "# Use the record function to capture audio\n",
        "audio_bytes = record(5)\n",
        "\n",
        "# Transcribe the audio\n",
        "transcribe_audio(audio_bytes)\n",
        "\n"
      ]
    },
    {
      "cell_type": "markdown",
      "metadata": {
        "id": "149FGtaX3FKg"
      },
      "source": [
        "## Text to Speech"
      ]
    },
    {
      "cell_type": "code",
      "execution_count": 8,
      "metadata": {
        "id": "NuerdJTR3JB5"
      },
      "outputs": [],
      "source": [
        "from gtts import gTTS\n",
        "from IPython.display import Audio, display\n",
        "\n",
        "def text_to_speech(text):\n",
        "    # Convert the text to speech\n",
        "    tts = gTTS(text=text, lang='en')\n",
        "    # Save the speech to a temporary file\n",
        "    tts.save('temp_audio.mp3')\n",
        "\n",
        "    # Play the audio file in the notebook\n",
        "    display(Audio('temp_audio.mp3', autoplay=True))"
      ]
    },
    {
      "cell_type": "markdown",
      "metadata": {
        "id": "APy1gA_C3CgP"
      },
      "source": [
        "## OpenAI API"
      ]
    },
    {
      "cell_type": "code",
      "execution_count": 32,
      "metadata": {
        "id": "r66mGte64HT8"
      },
      "outputs": [],
      "source": [
        "import openai\n",
        "\n",
        "\n",
        "\n",
        "def ask_gpt(user_request):\n",
        "\n",
        "    openai.api_key = 'ADD API Key'\n",
        "\n",
        "    # Replace 'your-api-key' with your actual OpenAI API key\n",
        "    OPENAI_API_KEY='ADD API Key'\n",
        "\n",
        "\n",
        "    model_choice = \"gpt-3.5-turbo-16k\"  #@param ['gpt-3.5-turbo-16k', 'gpt-3.5-turbo', 'gpt-4']\n",
        "    insert_prompt = user_request  #@param {type: \"string\"}\n",
        "    try:\n",
        "        # Make an API call to OpenAI\n",
        "        response = openai.ChatCompletion.create(\n",
        "            model=model_choice,\n",
        "            messages=[\n",
        "                {\"role\": \"system\", \"content\": \"You are an empathetic therapist skilled in conversational support. Your goal is to provide compassionate and understanding responses to your patient's concerns. Listen attentively, and respond with empathy. You may ask clarifying questions to better understand your patient's feelings or situation. If a topic arises that is beyond your scope (not related to emotions or therapy), kindly acknowledge it and suggest seeking additional support. Keep your responses concise and focused on fostering a supportive dialogue.\"},\n",
        "                {\"role\": \"user\", \"content\": insert_prompt}\n",
        "            ]\n",
        "        )\n",
        "        return response['choices'][0]['message']['content'].strip()\n",
        "    except Exception as e:\n",
        "        return f\"An error occurred: {e}\"\n",
        "\n",
        "# print(ask_gpt(\"Hello\"))"
      ]
    },
    {
      "cell_type": "markdown",
      "metadata": {
        "id": "euhoUOlBFL0O"
      },
      "source": [
        "# Run the Virtual Assistant"
      ]
    },
    {
      "cell_type": "code",
      "execution_count": 16,
      "metadata": {
        "colab": {
          "base_uri": "https://localhost:8080/",
          "height": 147
        },
        "id": "DBUxD-PU7kQE",
        "outputId": "2070b539-0be0-4d01-85e6-4f6af02e6045"
      },
      "outputs": [
        {
          "name": "stdout",
          "output_type": "stream",
          "text": [
            "Speak Now...\n"
          ]
        },
        {
          "data": {
            "application/javascript": "\nconst sleep  = time => new Promise(resolve => setTimeout(resolve, time))\nconst b2text = blob => new Promise(resolve => {\n  const reader = new FileReader()\n  reader.onloadend = e => resolve(e.srcElement.result)\n  reader.readAsDataURL(blob)\n})\nvar record = time => new Promise(async resolve => {\n  stream = await navigator.mediaDevices.getUserMedia({ audio: true })\n  recorder = new MediaRecorder(stream)\n  chunks = []\n  recorder.ondataavailable = e => chunks.push(e.data)\n  recorder.start()\n  await sleep(time)\n  recorder.onstop = async ()=>{\n    blob = new Blob(chunks)\n    text = await b2text(blob)\n    resolve(text)\n  }\n  recorder.stop()\n})\n",
            "text/plain": [
              "<IPython.core.display.Javascript object>"
            ]
          },
          "metadata": {},
          "output_type": "display_data"
        },
        {
          "name": "stdout",
          "output_type": "stream",
          "text": [
            "Done Recording !\n",
            "VA: It sounds like there may have been some confusion or misunderstanding. Can you share more about the situation so I can better understand your feelings?\n"
          ]
        },
        {
          "data": {
            "text/html": [
              "\n",
              "                <audio  controls=\"controls\" autoplay=\"autoplay\">\n",
              "                    <source src=\"data:audio/mpeg;base64,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\" type=\"audio/mpeg\" />\n",
              "                    Your browser does not support the audio element.\n",
              "                </audio>\n",
              "              "
            ],
            "text/plain": [
              "<IPython.lib.display.Audio object>"
            ]
          },
          "metadata": {},
          "output_type": "display_data"
        }
      ],
      "source": [
        "def run():\n",
        "  try:\n",
        "    # Use the record function to capture audio\n",
        "    audio_bytes = record(4)\n",
        "\n",
        "    # Transcribe the audio\n",
        "    transcript = transcribe_audio(audio_bytes)\n",
        "    # print(\"USER: \"+transcript)\n",
        "\n",
        "    # Complete the intent detection and generate answer\n",
        "    response = ask_gpt(transcript)\n",
        "    print(\"VA: \"+response)\n",
        "\n",
        "    # Convert text to speech\n",
        "    text_to_speech(response)\n",
        "  except:\n",
        "    # Convert text to speech\n",
        "    text_to_speech(\"Sorry I ran into an issue, try again later.\")\n",
        "\n",
        "run()"
      ]
    },
    {
      "cell_type": "code",
      "execution_count": 35,
      "metadata": {
        "colab": {
          "base_uri": "https://localhost:8080/",
          "height": 643
        },
        "id": "NjioWSq8HBIW",
        "outputId": "d3aecba1-ea38-4050-a229-f077283082b5"
      },
      "outputs": [
        {
          "name": "stdout",
          "output_type": "stream",
          "text": [
            "Speak Now...\n"
          ]
        },
        {
          "data": {
            "application/javascript": "\nconst sleep  = time => new Promise(resolve => setTimeout(resolve, time))\nconst b2text = blob => new Promise(resolve => {\n  const reader = new FileReader()\n  reader.onloadend = e => resolve(e.srcElement.result)\n  reader.readAsDataURL(blob)\n})\nvar record = time => new Promise(async resolve => {\n  stream = await navigator.mediaDevices.getUserMedia({ audio: true })\n  recorder = new MediaRecorder(stream)\n  chunks = []\n  recorder.ondataavailable = e => chunks.push(e.data)\n  recorder.start()\n  await sleep(time)\n  recorder.onstop = async ()=>{\n    blob = new Blob(chunks)\n    text = await b2text(blob)\n    resolve(text)\n  }\n  recorder.stop()\n})\n",
            "text/plain": [
              "<IPython.core.display.Javascript object>"
            ]
          },
          "metadata": {},
          "output_type": "display_data"
        },
        {
          "name": "stdout",
          "output_type": "stream",
          "text": [
            "Done Recording !\n",
            "User:  hello\n",
            "GPT Response: Hello! How are you feeling today? Is there something specific you'd like to talk about or do you just need someone to listen?\n"
          ]
        },
        {
          "data": {
            "text/html": [
              "\n",
              "                <audio  controls=\"controls\" autoplay=\"autoplay\">\n",
              "                    <source src=\"data:None;base64,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\" type=\"None\" />\n",
              "                    Your browser does not support the audio element.\n",
              "                </audio>\n",
              "              "
            ],
            "text/plain": [
              "<IPython.lib.display.Audio object>"
            ]
          },
          "metadata": {},
          "output_type": "display_data"
        },
        {
          "name": "stdout",
          "output_type": "stream",
          "text": [
            "Speak Now...\n"
          ]
        },
        {
          "data": {
            "application/javascript": "\nconst sleep  = time => new Promise(resolve => setTimeout(resolve, time))\nconst b2text = blob => new Promise(resolve => {\n  const reader = new FileReader()\n  reader.onloadend = e => resolve(e.srcElement.result)\n  reader.readAsDataURL(blob)\n})\nvar record = time => new Promise(async resolve => {\n  stream = await navigator.mediaDevices.getUserMedia({ audio: true })\n  recorder = new MediaRecorder(stream)\n  chunks = []\n  recorder.ondataavailable = e => chunks.push(e.data)\n  recorder.start()\n  await sleep(time)\n  recorder.onstop = async ()=>{\n    blob = new Blob(chunks)\n    text = await b2text(blob)\n    resolve(text)\n  }\n  recorder.stop()\n})\n",
            "text/plain": [
              "<IPython.core.display.Javascript object>"
            ]
          },
          "metadata": {},
          "output_type": "display_data"
        },
        {
          "name": "stdout",
          "output_type": "stream",
          "text": [
            "Done Recording !\n",
            "Still listenning...\n",
            "Speak Now...\n"
          ]
        },
        {
          "data": {
            "application/javascript": "\nconst sleep  = time => new Promise(resolve => setTimeout(resolve, time))\nconst b2text = blob => new Promise(resolve => {\n  const reader = new FileReader()\n  reader.onloadend = e => resolve(e.srcElement.result)\n  reader.readAsDataURL(blob)\n})\nvar record = time => new Promise(async resolve => {\n  stream = await navigator.mediaDevices.getUserMedia({ audio: true })\n  recorder = new MediaRecorder(stream)\n  chunks = []\n  recorder.ondataavailable = e => chunks.push(e.data)\n  recorder.start()\n  await sleep(time)\n  recorder.onstop = async ()=>{\n    blob = new Blob(chunks)\n    text = await b2text(blob)\n    resolve(text)\n  }\n  recorder.stop()\n})\n",
            "text/plain": [
              "<IPython.core.display.Javascript object>"
            ]
          },
          "metadata": {},
          "output_type": "display_data"
        },
        {
          "name": "stdout",
          "output_type": "stream",
          "text": [
            "Done Recording !\n",
            "Still listenning...\n",
            "Speak Now...\n"
          ]
        },
        {
          "data": {
            "application/javascript": "\nconst sleep  = time => new Promise(resolve => setTimeout(resolve, time))\nconst b2text = blob => new Promise(resolve => {\n  const reader = new FileReader()\n  reader.onloadend = e => resolve(e.srcElement.result)\n  reader.readAsDataURL(blob)\n})\nvar record = time => new Promise(async resolve => {\n  stream = await navigator.mediaDevices.getUserMedia({ audio: true })\n  recorder = new MediaRecorder(stream)\n  chunks = []\n  recorder.ondataavailable = e => chunks.push(e.data)\n  recorder.start()\n  await sleep(time)\n  recorder.onstop = async ()=>{\n    blob = new Blob(chunks)\n    text = await b2text(blob)\n    resolve(text)\n  }\n  recorder.stop()\n})\n",
            "text/plain": [
              "<IPython.core.display.Javascript object>"
            ]
          },
          "metadata": {},
          "output_type": "display_data"
        },
        {
          "name": "stdout",
          "output_type": "stream",
          "text": [
            "Done Recording !\n",
            "Still listenning...\n",
            "Speak Now...\n"
          ]
        },
        {
          "data": {
            "application/javascript": "\nconst sleep  = time => new Promise(resolve => setTimeout(resolve, time))\nconst b2text = blob => new Promise(resolve => {\n  const reader = new FileReader()\n  reader.onloadend = e => resolve(e.srcElement.result)\n  reader.readAsDataURL(blob)\n})\nvar record = time => new Promise(async resolve => {\n  stream = await navigator.mediaDevices.getUserMedia({ audio: true })\n  recorder = new MediaRecorder(stream)\n  chunks = []\n  recorder.ondataavailable = e => chunks.push(e.data)\n  recorder.start()\n  await sleep(time)\n  recorder.onstop = async ()=>{\n    blob = new Blob(chunks)\n    text = await b2text(blob)\n    resolve(text)\n  }\n  recorder.stop()\n})\n",
            "text/plain": [
              "<IPython.core.display.Javascript object>"
            ]
          },
          "metadata": {},
          "output_type": "display_data"
        },
        {
          "ename": "KeyboardInterrupt",
          "evalue": "",
          "output_type": "error",
          "traceback": [
            "\u001b[0;31m---------------------------------------------------------------------------\u001b[0m",
            "\u001b[0;31mKeyboardInterrupt\u001b[0m                         Traceback (most recent call last)",
            "\u001b[0;32m<ipython-input-35-62bde812cfd2>\u001b[0m in \u001b[0;36m<cell line: 59>\u001b[0;34m()\u001b[0m\n\u001b[1;32m     57\u001b[0m \u001b[0;34m\u001b[0m\u001b[0m\n\u001b[1;32m     58\u001b[0m \u001b[0;31m# Run the main loop\u001b[0m\u001b[0;34m\u001b[0m\u001b[0;34m\u001b[0m\u001b[0m\n\u001b[0;32m---> 59\u001b[0;31m \u001b[0mmain_loop\u001b[0m\u001b[0;34m(\u001b[0m\u001b[0;34m)\u001b[0m\u001b[0;34m\u001b[0m\u001b[0;34m\u001b[0m\u001b[0m\n\u001b[0m",
            "\u001b[0;32m<ipython-input-35-62bde812cfd2>\u001b[0m in \u001b[0;36mmain_loop\u001b[0;34m()\u001b[0m\n\u001b[1;32m     48\u001b[0m \u001b[0;32mdef\u001b[0m \u001b[0mmain_loop\u001b[0m\u001b[0;34m(\u001b[0m\u001b[0;34m)\u001b[0m\u001b[0;34m:\u001b[0m\u001b[0;34m\u001b[0m\u001b[0;34m\u001b[0m\u001b[0m\n\u001b[1;32m     49\u001b[0m     \u001b[0;32mwhile\u001b[0m \u001b[0;32mTrue\u001b[0m\u001b[0;34m:\u001b[0m\u001b[0;34m\u001b[0m\u001b[0;34m\u001b[0m\u001b[0m\n\u001b[0;32m---> 50\u001b[0;31m         \u001b[0maudio\u001b[0m \u001b[0;34m=\u001b[0m \u001b[0mrecord\u001b[0m\u001b[0;34m(\u001b[0m\u001b[0;34m)\u001b[0m\u001b[0;34m\u001b[0m\u001b[0;34m\u001b[0m\u001b[0m\n\u001b[0m\u001b[1;32m     51\u001b[0m         \u001b[0mquery\u001b[0m \u001b[0;34m=\u001b[0m \u001b[0mtranscribe_audio\u001b[0m\u001b[0;34m(\u001b[0m\u001b[0maudio\u001b[0m\u001b[0;34m)\u001b[0m\u001b[0;34m\u001b[0m\u001b[0;34m\u001b[0m\u001b[0m\n\u001b[1;32m     52\u001b[0m         \u001b[0;32mif\u001b[0m \u001b[0mquery\u001b[0m\u001b[0;34m:\u001b[0m\u001b[0;34m\u001b[0m\u001b[0;34m\u001b[0m\u001b[0m\n",
            "\u001b[0;32m<ipython-input-6-6e29c9594ab0>\u001b[0m in \u001b[0;36mrecord\u001b[0;34m(sec)\u001b[0m\n\u001b[1;32m     32\u001b[0m   \u001b[0mdisplay\u001b[0m\u001b[0;34m(\u001b[0m\u001b[0mJavascript\u001b[0m\u001b[0;34m(\u001b[0m\u001b[0mRECORD\u001b[0m\u001b[0;34m)\u001b[0m\u001b[0;34m)\u001b[0m\u001b[0;34m\u001b[0m\u001b[0;34m\u001b[0m\u001b[0m\n\u001b[1;32m     33\u001b[0m   \u001b[0msec\u001b[0m \u001b[0;34m+=\u001b[0m \u001b[0;36m1\u001b[0m\u001b[0;34m\u001b[0m\u001b[0;34m\u001b[0m\u001b[0m\n\u001b[0;32m---> 34\u001b[0;31m   \u001b[0ms\u001b[0m \u001b[0;34m=\u001b[0m \u001b[0moutput\u001b[0m\u001b[0;34m.\u001b[0m\u001b[0meval_js\u001b[0m\u001b[0;34m(\u001b[0m\u001b[0;34m'record(%d)'\u001b[0m \u001b[0;34m%\u001b[0m \u001b[0;34m(\u001b[0m\u001b[0msec\u001b[0m\u001b[0;34m*\u001b[0m\u001b[0;36m1000\u001b[0m\u001b[0;34m)\u001b[0m\u001b[0;34m)\u001b[0m\u001b[0;34m\u001b[0m\u001b[0;34m\u001b[0m\u001b[0m\n\u001b[0m\u001b[1;32m     35\u001b[0m   \u001b[0mprint\u001b[0m\u001b[0;34m(\u001b[0m\u001b[0;34m\"Done Recording !\"\u001b[0m\u001b[0;34m)\u001b[0m\u001b[0;34m\u001b[0m\u001b[0;34m\u001b[0m\u001b[0m\n\u001b[1;32m     36\u001b[0m   \u001b[0mb\u001b[0m \u001b[0;34m=\u001b[0m \u001b[0mb64decode\u001b[0m\u001b[0;34m(\u001b[0m\u001b[0ms\u001b[0m\u001b[0;34m.\u001b[0m\u001b[0msplit\u001b[0m\u001b[0;34m(\u001b[0m\u001b[0;34m','\u001b[0m\u001b[0;34m)\u001b[0m\u001b[0;34m[\u001b[0m\u001b[0;36m1\u001b[0m\u001b[0;34m]\u001b[0m\u001b[0;34m)\u001b[0m\u001b[0;34m\u001b[0m\u001b[0;34m\u001b[0m\u001b[0m\n",
            "\u001b[0;32m/usr/local/lib/python3.10/dist-packages/google/colab/output/_js.py\u001b[0m in \u001b[0;36meval_js\u001b[0;34m(script, ignore_result, timeout_sec)\u001b[0m\n\u001b[1;32m     38\u001b[0m   \u001b[0;32mif\u001b[0m \u001b[0mignore_result\u001b[0m\u001b[0;34m:\u001b[0m\u001b[0;34m\u001b[0m\u001b[0;34m\u001b[0m\u001b[0m\n\u001b[1;32m     39\u001b[0m     \u001b[0;32mreturn\u001b[0m\u001b[0;34m\u001b[0m\u001b[0;34m\u001b[0m\u001b[0m\n\u001b[0;32m---> 40\u001b[0;31m   \u001b[0;32mreturn\u001b[0m \u001b[0m_message\u001b[0m\u001b[0;34m.\u001b[0m\u001b[0mread_reply_from_input\u001b[0m\u001b[0;34m(\u001b[0m\u001b[0mrequest_id\u001b[0m\u001b[0;34m,\u001b[0m \u001b[0mtimeout_sec\u001b[0m\u001b[0;34m)\u001b[0m\u001b[0;34m\u001b[0m\u001b[0;34m\u001b[0m\u001b[0m\n\u001b[0m\u001b[1;32m     41\u001b[0m \u001b[0;34m\u001b[0m\u001b[0m\n\u001b[1;32m     42\u001b[0m \u001b[0;34m\u001b[0m\u001b[0m\n",
            "\u001b[0;32m/usr/local/lib/python3.10/dist-packages/google/colab/_message.py\u001b[0m in \u001b[0;36mread_reply_from_input\u001b[0;34m(message_id, timeout_sec)\u001b[0m\n\u001b[1;32m     94\u001b[0m     \u001b[0mreply\u001b[0m \u001b[0;34m=\u001b[0m \u001b[0m_read_next_input_message\u001b[0m\u001b[0;34m(\u001b[0m\u001b[0;34m)\u001b[0m\u001b[0;34m\u001b[0m\u001b[0;34m\u001b[0m\u001b[0m\n\u001b[1;32m     95\u001b[0m     \u001b[0;32mif\u001b[0m \u001b[0mreply\u001b[0m \u001b[0;34m==\u001b[0m \u001b[0m_NOT_READY\u001b[0m \u001b[0;32mor\u001b[0m \u001b[0;32mnot\u001b[0m \u001b[0misinstance\u001b[0m\u001b[0;34m(\u001b[0m\u001b[0mreply\u001b[0m\u001b[0;34m,\u001b[0m \u001b[0mdict\u001b[0m\u001b[0;34m)\u001b[0m\u001b[0;34m:\u001b[0m\u001b[0;34m\u001b[0m\u001b[0;34m\u001b[0m\u001b[0m\n\u001b[0;32m---> 96\u001b[0;31m       \u001b[0mtime\u001b[0m\u001b[0;34m.\u001b[0m\u001b[0msleep\u001b[0m\u001b[0;34m(\u001b[0m\u001b[0;36m0.025\u001b[0m\u001b[0;34m)\u001b[0m\u001b[0;34m\u001b[0m\u001b[0;34m\u001b[0m\u001b[0m\n\u001b[0m\u001b[1;32m     97\u001b[0m       \u001b[0;32mcontinue\u001b[0m\u001b[0;34m\u001b[0m\u001b[0;34m\u001b[0m\u001b[0m\n\u001b[1;32m     98\u001b[0m     if (\n",
            "\u001b[0;31mKeyboardInterrupt\u001b[0m: "
          ]
        }
      ],
      "source": [
        "import speech_recognition as sr\n",
        "from gtts import gTTS\n",
        "import IPython.display as ipd\n",
        "import openai\n",
        "import tempfile\n",
        "\n",
        "# # Initialize the recognizer\n",
        "# r = sr.Recognizer()\n",
        "\n",
        "# # OpenAI API setup\n",
        "# openai.api_key = 'your-api-key'\n",
        "\n",
        "# def listen():\n",
        "#     # Use the Microphone as source for input.\n",
        "#     with sr.Microphone() as source:\n",
        "#         print(\"Listening...\")\n",
        "#         # Adjust for ambient noise and record\n",
        "#         r.adjust_for_ambient_noise(source)\n",
        "#         audio = r.listen(source, timeout=5, phrase_time_limit=5)\n",
        "#     return audio\n",
        "\n",
        "# def transcribe(audio):\n",
        "#     try:\n",
        "#         # Use Google Web Speech API to transcribe the audio\n",
        "#         text = r.recognize_google(audio)\n",
        "#         print(f\"Transcribed Text: {text}\")\n",
        "#         return text\n",
        "#     except sr.UnknownValueError:\n",
        "#         return \"Could not understand audio\"\n",
        "#     except sr.RequestError as e:\n",
        "#         return f\"Could not request results; {e}\"\n",
        "\n",
        "# def ask_gpt(question):\n",
        "#     response = openai.ChatCompletion.create(\n",
        "#         model=\"gpt-3.5-turbo\",\n",
        "#         messages=[\n",
        "#             {\"role\": \"user\", \"content\": question}\n",
        "#         ]\n",
        "#     )\n",
        "#     return response.choices[0].message.content.strip()\n",
        "\n",
        "def speak(text):\n",
        "    tts = gTTS(text=text, lang='en')\n",
        "    fp = tempfile.NamedTemporaryFile(delete=False)\n",
        "    tts.save(fp.name)\n",
        "    ipd.display(ipd.Audio(fp.name, autoplay=True))\n",
        "\n",
        "def main_loop():\n",
        "    while True:\n",
        "        audio = record()\n",
        "        query = transcribe_audio(audio)\n",
        "        if query:\n",
        "            print(\"User: \",query)\n",
        "            response = ask_gpt(query)\n",
        "            print(\"GPT Response:\", response)\n",
        "            speak(response)\n",
        "\n",
        "# Run the main loop\n",
        "main_loop()\n"
      ]
    }
  ],
  "metadata": {
    "colab": {
      "provenance": []
    },
    "kernelspec": {
      "display_name": "Python 3",
      "name": "python3"
    },
    "language_info": {
      "name": "python"
    }
  },
  "nbformat": 4,
  "nbformat_minor": 0
}
